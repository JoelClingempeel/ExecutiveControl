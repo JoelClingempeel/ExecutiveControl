{
 "cells": [
  {
   "cell_type": "code",
   "execution_count": 1,
   "metadata": {},
   "outputs": [],
   "source": [
    "import math\n",
    "import matplotlib.pyplot as plt\n",
    "import pickle\n",
    "from PIL import Image\n",
    "import random\n",
    "import torch\n",
    "import torchvision.transforms as transforms\n",
    "\n",
    "\n",
    "image2tensor = transforms.ToTensor()\n",
    "tensor2image = transforms.ToPILImage()"
   ]
  },
  {
   "cell_type": "code",
   "execution_count": 2,
   "metadata": {},
   "outputs": [],
   "source": [
    "num_patterns = 2\n",
    "pattern_size = 3\n",
    "num_cards = 10\n",
    "\n",
    "output_image_path = 'data/images'\n",
    "output_label_path = 'data/labels'\n",
    "\n",
    "params = {'colors': ['red',\n",
    "                     'orange',\n",
    "                     'yellow',\n",
    "                     'green',\n",
    "                     'blue',\n",
    "                     'indigo',\n",
    "                     'violet',\n",
    "                     'brown',\n",
    "                     'black'],\n",
    "          'max_sides': 5,\n",
    "          'width': 10,\n",
    "          'height': 10,\n",
    "          'max_x_diff': 10,\n",
    "          'max_y_diff': 10,\n",
    "          'max_start_radius': 20,\n",
    "          'max_radius_diff': 5}"
   ]
  },
  {
   "cell_type": "code",
   "execution_count": 3,
   "metadata": {},
   "outputs": [],
   "source": [
    "x_min = (params['width'] - params['max_start_radius'] -\n",
    "        (pattern_size - 1) * (params['max_x_diff'] + params['max_radius_diff']))\n",
    "\n",
    "x_max = (params['width'] + params['max_start_radius'] +\n",
    "        (pattern_size - 1) * (params['max_x_diff'] + params['max_radius_diff']))\n",
    "\n",
    "y_min = (params['height'] - params['max_start_radius'] -\n",
    "        (pattern_size - 1) * (params['max_y_diff'] + params['max_radius_diff']))\n",
    "\n",
    "y_max = (params['height'] + params['max_start_radius'] +\n",
    "        (pattern_size - 1) * (params['max_y_diff'] + params['max_radius_diff']))"
   ]
  },
  {
   "cell_type": "code",
   "execution_count": 4,
   "metadata": {},
   "outputs": [],
   "source": [
    "def rand_seq(max_start, max_diff, length):\n",
    "    start = max_start * random.random()\n",
    "    diff = max_diff * random.random()\n",
    "    return [start + j * diff for j in range(length)]\n",
    "\n",
    "def generate_pattern(pattern_size, params):\n",
    "    num_sides = [j for j in range(3, params['max_sides'] + 1)]\n",
    "    \n",
    "    colors = random.sample(params['colors'], pattern_size)\n",
    "    sides = random.sample(num_sides, pattern_size)\n",
    "    x_coords = rand_seq(params['width'], params['max_x_diff'], pattern_size)\n",
    "    y_coords = rand_seq(params['height'], params['max_y_diff'], pattern_size)\n",
    "    radii = rand_seq(params['max_start_radius'], params['max_radius_diff'], pattern_size)\n",
    "    \n",
    "    return list(zip(colors, sides, x_coords, y_coords, radii))\n",
    "\n",
    "def show_patterns(num_patterns, pattern_size, params):\n",
    "    patterns = [generate_pattern(pattern_size, params)\n",
    "                for _ in range(num_patterns)]\n",
    "    while True:\n",
    "        pattern = random.choice(patterns)\n",
    "        for data in pattern:\n",
    "            yield data"
   ]
  },
  {
   "cell_type": "code",
   "execution_count": 8,
   "metadata": {},
   "outputs": [],
   "source": [
    "def make_regular_polygon(num_sides, x_center, y_center, size):\n",
    "    points = []\n",
    "    angle_offset = 0\n",
    "    for k in range(num_sides):\n",
    "        x = size * math.cos(angle_offset) + x_center\n",
    "        y = size * math.sin(angle_offset) + y_center\n",
    "        points.append([x, y])\n",
    "        angle_offset += 2 * math.pi / num_sides\n",
    "    points.append(points[0])\n",
    "    return zip(*points)\n",
    "\n",
    "def show_card(data, color, x_min, x_max, y_min, y_max, file_path=''):\n",
    "    fig, ax = plt.subplots()\n",
    "    fig.patch.set_visible(False)\n",
    "    ax.axis('off')\n",
    "    plt.xlim(x_min, x_max)\n",
    "    plt.ylim(y_min, y_max)\n",
    "    plt.fill(*data, color)\n",
    "    if file_path:\n",
    "        plt.savefig(file_path)\n",
    "    plt.show()\n",
    "    \n",
    "def get_image(data, x_min, x_max, y_min, y_max):\n",
    "    polygon_data = make_regular_polygon(*data[1:])\n",
    "    show_card(polygon_data, data[0], x_min, x_max, y_min, y_max, 'tmp.png')\n",
    "    image = Image.open('tmp.png').convert('RGB')\n",
    "    image_tensor = image2tensor(image)\n",
    "    return image_tensor\n",
    "\n",
    "def get_labels(data, colors):\n",
    "    data = [colors.index(data[0])] + list(data[1:])\n",
    "    return torch.tensor(data)"
   ]
  },
  {
   "cell_type": "code",
   "execution_count": 9,
   "metadata": {},
   "outputs": [
    {
     "data": {
      "image/png": "[encoded data removed]",
      "text/plain": [
       "<Figure size 432x288 with 1 Axes>"
      ]
     },
     "metadata": {
      "needs_background": "light"
     },
     "output_type": "display_data"
    },
    {
     "data": {
      "image/png": "[encoded data removed]",
      "text/plain": [
       "<Figure size 432x288 with 1 Axes>"
      ]
     },
     "metadata": {
      "needs_background": "light"
     },
     "output_type": "display_data"
    },
    {
     "data": {
      "image/png": "[encoded data removed]",
      "text/plain": [
       "<Figure size 432x288 with 1 Axes>"
      ]
     },
     "metadata": {
      "needs_background": "light"
     },
     "output_type": "display_data"
    },
    {
     "data": {
      "image/png": "[encoded data removed]",
      "text/plain": [
       "<Figure size 432x288 with 1 Axes>"
      ]
     },
     "metadata": {
      "needs_background": "light"
     },
     "output_type": "display_data"
    },
    {
     "data": {
      "image/png": "[encoded data removed]",
      "text/plain": [
       "<Figure size 432x288 with 1 Axes>"
      ]
     },
     "metadata": {
      "needs_background": "light"
     },
     "output_type": "display_data"
    },
    {
     "data": {
      "image/png": "[encoded data removed]",
      "text/plain": [
       "<Figure size 432x288 with 1 Axes>"
      ]
     },
     "metadata": {
      "needs_background": "light"
     },
     "output_type": "display_data"
    },
    {
     "data": {
      "image/png": "[encoded data removed]",
      "text/plain": [
       "<Figure size 432x288 with 1 Axes>"
      ]
     },
     "metadata": {
      "needs_background": "light"
     },
     "output_type": "display_data"
    },
    {
     "data": {
      "image/png": "[encoded data removed]",
      "text/plain": [
       "<Figure size 432x288 with 1 Axes>"
      ]
     },
     "metadata": {
      "needs_background": "light"
     },
     "output_type": "display_data"
    },
    {
     "data": {
      "image/png": "[encoded data removed]",
      "text/plain": [
       "<Figure size 432x288 with 1 Axes>"
      ]
     },
     "metadata": {
      "needs_background": "light"
     },
     "output_type": "display_data"
    },
    {
     "data": {
      "image/png": "[encoded data removed]",
      "text/plain": [
       "<Figure size 432x288 with 1 Axes>"
      ]
     },
     "metadata": {
      "needs_background": "light"
     },
     "output_type": "display_data"
    }
   ],
   "source": [
    "gen = show_patterns(num_patterns, pattern_size, params)\n",
    "images = []\n",
    "labels = []\n",
    "for _ in range(num_cards):\n",
    "    data = next(gen)\n",
    "    images.append(get_image(data, x_min, x_max, y_min, y_max))\n",
    "    labels.append(get_labels(data, params['colors']))\n",
    "    \n",
    "images = torch.stack(images)\n",
    "labels = torch.stack(labels)"
   ]
  },
  {
   "cell_type": "code",
   "execution_count": 10,
   "metadata": {},
   "outputs": [
    {
     "name": "stdout",
     "output_type": "stream",
     "text": [
      "torch.Size([10, 3, 288, 432])\n",
      "torch.Size([10, 5])\n"
     ]
    }
   ],
   "source": [
    "print(images.shape)\n",
    "print(labels.shape)"
   ]
  },
  {
   "cell_type": "code",
   "execution_count": 16,
   "metadata": {},
   "outputs": [],
   "source": [
    "with open(output_image_path, 'wb') as f:\n",
    "    pickle.dump(images, f)\n",
    "\n",
    "with open(output_label_path, 'wb') as f:\n",
    "    pickle.dump(labels, f)"
   ]
  },
  {
   "cell_type": "code",
   "execution_count": null,
   "metadata": {},
   "outputs": [],
   "source": []
  }
 ],
 "metadata": {
  "kernelspec": {
   "display_name": "Python 3",
   "language": "python",
   "name": "python3"
  },
  "language_info": {
   "codemirror_mode": {
    "name": "ipython",
    "version": 3
   },
   "file_extension": ".py",
   "mimetype": "text/x-python",
   "name": "python",
   "nbconvert_exporter": "python",
   "pygments_lexer": "ipython3",
   "version": "3.7.6"
  }
 },
 "nbformat": 4,
 "nbformat_minor": 2
}
