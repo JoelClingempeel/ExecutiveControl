{
 "cells": [
  {
   "cell_type": "code",
   "execution_count": 9,
   "metadata": {},
   "outputs": [],
   "source": [
    "import math\n",
    "import matplotlib.pyplot as plt\n",
    "from PIL import Image\n",
    "import random\n",
    "import torch\n",
    "import torchvision.transforms as transforms\n",
    "\n",
    "\n",
    "image2tensor = transforms.ToTensor()\n",
    "tensor2image = transforms.ToPILImage()"
   ]
  },
  {
   "cell_type": "code",
   "execution_count": 40,
   "metadata": {},
   "outputs": [],
   "source": [
    "num_patterns = 2\n",
    "pattern_size = 3\n",
    "num_cards = 2\n",
    "\n",
    "params = {'colors': ['red',\n",
    "                     'orange',\n",
    "                     'yellow',\n",
    "                     'green',\n",
    "                     'blue',\n",
    "                     'indigo',\n",
    "                     'violet',\n",
    "                     'brown',\n",
    "                     'black'],\n",
    "          'max_sides': 5,\n",
    "          'width': 10,\n",
    "          'height': 10,\n",
    "          'max_x_diff': 10,\n",
    "          'max_y_diff': 10,\n",
    "          'max_start_radius': 20,\n",
    "          'max_radius_diff': 5}"
   ]
  },
  {
   "cell_type": "code",
   "execution_count": 41,
   "metadata": {},
   "outputs": [],
   "source": [
    "x_min = (params['width'] - params['max_start_radius'] -\n",
    "        (pattern_size - 1) * (params['max_x_diff'] + params['max_radius_diff']))\n",
    "\n",
    "x_max = (params['width'] + params['max_start_radius'] +\n",
    "        (pattern_size - 1) * (params['max_x_diff'] + params['max_radius_diff']))\n",
    "\n",
    "y_min = (params['height'] - params['max_start_radius'] -\n",
    "        (pattern_size - 1) * (params['max_y_diff'] + params['max_radius_diff']))\n",
    "\n",
    "y_max = (params['height'] + params['max_start_radius'] +\n",
    "        (pattern_size - 1) * (params['max_y_diff'] + params['max_radius_diff']))"
   ]
  },
  {
   "cell_type": "code",
   "execution_count": 42,
   "metadata": {},
   "outputs": [],
   "source": [
    "def rand_seq(max_start, max_diff, length):\n",
    "    start = max_start * random.random()\n",
    "    diff = max_diff * random.random()\n",
    "    return [start + j * diff for j in range(length)]\n",
    "\n",
    "def generate_pattern(pattern_size, params):\n",
    "    num_sides = [j for j in range(3, params['max_sides'] + 1)]\n",
    "    \n",
    "    colors = random.sample(params['colors'], pattern_size)\n",
    "    sides = random.sample(num_sides, pattern_size)\n",
    "    x_coords = rand_seq(params['width'], params['max_x_diff'], pattern_size)\n",
    "    y_coords = rand_seq(params['height'], params['max_y_diff'], pattern_size)\n",
    "    radii = rand_seq(params['max_start_radius'], params['max_radius_diff'], pattern_size)\n",
    "    \n",
    "    return zip(colors, sides, x_coords, y_coords, radii)\n",
    "\n",
    "def show_patterns(num_patterns, pattern_size, params):  # TODO Y U NO FAST?!?!\n",
    "    patterns = [generate_pattern(pattern_size, params)\n",
    "                for _ in range(num_patterns)]\n",
    "    while True:\n",
    "        for data in random.choice(patterns):\n",
    "            yield data"
   ]
  },
  {
   "cell_type": "code",
   "execution_count": 43,
   "metadata": {},
   "outputs": [],
   "source": [
    "def make_regular_polygon(num_sides, x_center, y_center, size):\n",
    "    points = []\n",
    "    angle_offset = 0\n",
    "    for k in range(num_sides):\n",
    "        x = size * math.cos(angle_offset) + x_center\n",
    "        y = size * math.sin(angle_offset) + y_center\n",
    "        points.append([x, y])\n",
    "        angle_offset += 2 * math.pi / num_sides\n",
    "    points.append(points[0])\n",
    "    return zip(*points)\n",
    "\n",
    "def show_card(data, color, x_min, x_max, y_min, y_max, file_path=''):\n",
    "    fig, ax = plt.subplots()\n",
    "    fig.patch.set_visible(False)\n",
    "    ax.axis('off')\n",
    "    plt.xlim(x_min, x_max)\n",
    "    plt.ylim(y_min, y_max)\n",
    "    plt.fill(*data, color)\n",
    "    if file_path:\n",
    "        plt.savefig(file_path)\n",
    "    plt.show()\n",
    "    \n",
    "def get_image(data, x_min, x_max, y_min, y_max):\n",
    "    polygon_data = make_regular_polygon(*data[1:])\n",
    "    show_card(polygon_data, data[0], x_min, x_max, y_min, y_max, 'tmp.png')\n",
    "    image = Image.open('tmp.png')\n",
    "    image_tensor = image2tensor(image)\n",
    "    return image_tensor\n",
    "\n",
    "def get_labels(data, colors):\n",
    "    disc_label = [colors.index(data[0]), data[1]]\n",
    "    cont_label = list(data[2:])\n",
    "    return torch.tensor(disc_label), torch.tensor(cont_label)"
   ]
  },
  {
   "cell_type": "code",
   "execution_count": 44,
   "metadata": {},
   "outputs": [
    {
     "data": {
      "image/png": "[encoded data removed]",
      "text/plain": [
       "<Figure size 432x288 with 1 Axes>"
      ]
     },
     "metadata": {
      "needs_background": "light"
     },
     "output_type": "display_data"
    },
    {
     "data": {
      "image/png": "[encoded data removed]",
      "text/plain": [
       "<Figure size 432x288 with 1 Axes>"
      ]
     },
     "metadata": {
      "needs_background": "light"
     },
     "output_type": "display_data"
    }
   ],
   "source": [
    "gen = show_patterns(num_patterns, pattern_size, params)\n",
    "images = []\n",
    "disc_labels = []\n",
    "cont_labels = []\n",
    "for _ in range(num_cards):\n",
    "    data = next(gen)\n",
    "    images.append(get_image(data, x_min, x_max, y_min, y_max))\n",
    "    disc_label, cont_label = get_labels(data, params['colors'])\n",
    "    disc_labels.append(disc_label)\n",
    "    cont_labels.append(cont_label)\n",
    "    \n",
    "images = torch.stack(images)\n",
    "disc_labels = torch.stack(disc_labels)\n",
    "cont_labels = torch.stack(cont_labels)"
   ]
  },
  {
   "cell_type": "code",
   "execution_count": 45,
   "metadata": {},
   "outputs": [
    {
     "name": "stdout",
     "output_type": "stream",
     "text": [
      "torch.Size([2, 4, 288, 432])\n",
      "torch.Size([2, 2])\n",
      "torch.Size([2, 3])\n"
     ]
    }
   ],
   "source": [
    "print(images.shape)\n",
    "print(disc_labels.shape)\n",
    "print(cont_labels.shape)"
   ]
  },
  {
   "cell_type": "code",
   "execution_count": null,
   "metadata": {},
   "outputs": [],
   "source": []
  }
 ],
 "metadata": {
  "kernelspec": {
   "display_name": "Python 3",
   "language": "python",
   "name": "python3"
  },
  "language_info": {
   "codemirror_mode": {
    "name": "ipython",
    "version": 3
   },
   "file_extension": ".py",
   "mimetype": "text/x-python",
   "name": "python",
   "nbconvert_exporter": "python",
   "pygments_lexer": "ipython3",
   "version": "3.7.6"
  }
 },
 "nbformat": 4,
 "nbformat_minor": 2
}
